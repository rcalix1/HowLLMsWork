{
 "cells": [
  {
   "cell_type": "code",
   "execution_count": 1,
   "id": "5963bc6a-1491-415a-823b-68a268329ad5",
   "metadata": {},
   "outputs": [],
   "source": [
    "\n",
    "import torch\n",
    "\n",
    "from torch.nn import functional as F\n"
   ]
  },
  {
   "cell_type": "markdown",
   "id": "e1a06abf-502c-4be3-849b-d888ee2833bf",
   "metadata": {},
   "source": [
    "\n",
    "## Attention\n",
    "\n",
    "* attention converts \"x\" into K, Q, V and performs the attention mechanism by the matrix multiplication between K and Q\n"
   ]
  },
  {
   "cell_type": "code",
   "execution_count": 2,
   "id": "11380e7b-6232-4aa0-ba7b-2bfd6f6c26eb",
   "metadata": {},
   "outputs": [
    {
     "data": {
      "text/plain": [
       "torch.Size([32, 40, 512])"
      ]
     },
     "execution_count": 2,
     "metadata": {},
     "output_type": "execute_result"
    }
   ],
   "source": [
    "\n",
    "N = 32 \n",
    "\n",
    "x = torch.randn(N, 40, 512)\n",
    "x.shape\n"
   ]
  },
  {
   "cell_type": "markdown",
   "id": "3d98edb9-ff74-41c0-969c-e3ff60588f39",
   "metadata": {},
   "source": [
    "\n",
    "## Q\n"
   ]
  },
  {
   "cell_type": "code",
   "execution_count": 3,
   "id": "72566bcb-bab1-4baf-b26b-5903bcd4607c",
   "metadata": {},
   "outputs": [
    {
     "data": {
      "text/plain": [
       "torch.Size([32, 512, 64])"
      ]
     },
     "execution_count": 3,
     "metadata": {},
     "output_type": "execute_result"
    }
   ],
   "source": [
    "\n",
    "wq = torch.randn(N, 512, 64)\n",
    "wq.shape\n"
   ]
  },
  {
   "cell_type": "code",
   "execution_count": 4,
   "id": "62e02ce9-11be-4bb2-a7bc-35f56c9b9131",
   "metadata": {},
   "outputs": [
    {
     "data": {
      "text/plain": [
       "torch.Size([32, 40, 64])"
      ]
     },
     "execution_count": 4,
     "metadata": {},
     "output_type": "execute_result"
    }
   ],
   "source": [
    "\n",
    "bq = torch.randn(  N, 40, 64  )\n",
    "bq.shape\n"
   ]
  },
  {
   "cell_type": "code",
   "execution_count": 5,
   "id": "b439fb17-4fb3-4d4f-9b27-e4ca49270e64",
   "metadata": {},
   "outputs": [
    {
     "data": {
      "text/plain": [
       "torch.Size([32, 40, 64])"
      ]
     },
     "execution_count": 5,
     "metadata": {},
     "output_type": "execute_result"
    }
   ],
   "source": [
    "\n",
    "Q = torch.matmul(  x, wq  ) \n",
    "Q.shape\n"
   ]
  },
  {
   "cell_type": "code",
   "execution_count": 6,
   "id": "9dae5cc9-54c7-4165-a2d0-90ddfbc671b5",
   "metadata": {},
   "outputs": [
    {
     "data": {
      "text/plain": [
       "torch.Size([32, 40, 64])"
      ]
     },
     "execution_count": 6,
     "metadata": {},
     "output_type": "execute_result"
    }
   ],
   "source": [
    "\n",
    "Q = Q + bq\n",
    "Q.shape\n"
   ]
  },
  {
   "cell_type": "markdown",
   "id": "cafc03d4-af0f-46b4-855a-c54fafc4fdcb",
   "metadata": {},
   "source": [
    "\n",
    "## K \n"
   ]
  },
  {
   "cell_type": "code",
   "execution_count": 7,
   "id": "2c59e558-04d4-4acc-9305-a8349e72a871",
   "metadata": {},
   "outputs": [
    {
     "data": {
      "text/plain": [
       "torch.Size([32, 512, 64])"
      ]
     },
     "execution_count": 7,
     "metadata": {},
     "output_type": "execute_result"
    }
   ],
   "source": [
    "\n",
    "wk = torch.randn(N, 512, 64)\n",
    "wk.shape\n"
   ]
  },
  {
   "cell_type": "code",
   "execution_count": 8,
   "id": "2ce15992-ba0b-429f-a54b-ed13ef996334",
   "metadata": {},
   "outputs": [
    {
     "data": {
      "text/plain": [
       "torch.Size([32, 40, 64])"
      ]
     },
     "execution_count": 8,
     "metadata": {},
     "output_type": "execute_result"
    }
   ],
   "source": [
    "\n",
    "bk = torch.randn(  N, 40, 64  )\n",
    "bk.shape\n"
   ]
  },
  {
   "cell_type": "code",
   "execution_count": 9,
   "id": "fcff507d-b6e9-4a78-aad5-bcc2edbd537f",
   "metadata": {},
   "outputs": [
    {
     "data": {
      "text/plain": [
       "torch.Size([32, 40, 64])"
      ]
     },
     "execution_count": 9,
     "metadata": {},
     "output_type": "execute_result"
    }
   ],
   "source": [
    "\n",
    "K = torch.matmul(  x, wk  ) \n",
    "K.shape\n"
   ]
  },
  {
   "cell_type": "code",
   "execution_count": 10,
   "id": "a05dbea7-5a7d-46ea-9e57-0ce7d4cfbabb",
   "metadata": {},
   "outputs": [
    {
     "data": {
      "text/plain": [
       "torch.Size([32, 40, 64])"
      ]
     },
     "execution_count": 10,
     "metadata": {},
     "output_type": "execute_result"
    }
   ],
   "source": [
    "\n",
    "K = K + bk\n",
    "K.shape\n"
   ]
  },
  {
   "cell_type": "markdown",
   "id": "8b018657-94bf-47ed-82b0-72a6e5addbf3",
   "metadata": {},
   "source": [
    "\n",
    "## Attention Q*K = [N, 40, 40]\n"
   ]
  },
  {
   "cell_type": "code",
   "execution_count": 11,
   "id": "cc2c4711-4f06-4253-8c9a-6b70898867f7",
   "metadata": {},
   "outputs": [
    {
     "data": {
      "text/plain": [
       "torch.Size([32, 40, 40])"
      ]
     },
     "execution_count": 11,
     "metadata": {},
     "output_type": "execute_result"
    }
   ],
   "source": [
    "\n",
    "attention_scores = torch.matmul(   Q, K.transpose( -2, -1 )   )\n",
    "attention_scores.shape\n"
   ]
  },
  {
   "cell_type": "markdown",
   "id": "884c1ee6-3c8a-492c-8021-9808554a4616",
   "metadata": {},
   "source": [
    "\n",
    "## V\n"
   ]
  },
  {
   "cell_type": "code",
   "execution_count": 12,
   "id": "42890f75-307c-4ff4-ac9b-38ed7ce9f415",
   "metadata": {},
   "outputs": [
    {
     "data": {
      "text/plain": [
       "torch.Size([32, 512, 64])"
      ]
     },
     "execution_count": 12,
     "metadata": {},
     "output_type": "execute_result"
    }
   ],
   "source": [
    "\n",
    "wv = torch.randn(N, 512, 64)\n",
    "wv.shape\n"
   ]
  },
  {
   "cell_type": "code",
   "execution_count": 13,
   "id": "7de8a2c1-18c4-43e8-9e6c-7be37d6f52fe",
   "metadata": {},
   "outputs": [
    {
     "data": {
      "text/plain": [
       "torch.Size([32, 40, 64])"
      ]
     },
     "execution_count": 13,
     "metadata": {},
     "output_type": "execute_result"
    }
   ],
   "source": [
    "\n",
    "bv = torch.randn(  N, 40, 64  )\n",
    "bv.shape\n"
   ]
  },
  {
   "cell_type": "code",
   "execution_count": 14,
   "id": "f4536a85-5a10-467e-abf1-7f08f34824d8",
   "metadata": {},
   "outputs": [
    {
     "data": {
      "text/plain": [
       "torch.Size([32, 40, 64])"
      ]
     },
     "execution_count": 14,
     "metadata": {},
     "output_type": "execute_result"
    }
   ],
   "source": [
    "\n",
    "V = torch.matmul(  x, wv  ) \n",
    "V.shape\n"
   ]
  },
  {
   "cell_type": "code",
   "execution_count": 15,
   "id": "eba9b555-d909-4997-b0bf-61f316a283cf",
   "metadata": {},
   "outputs": [
    {
     "data": {
      "text/plain": [
       "torch.Size([32, 40, 64])"
      ]
     },
     "execution_count": 15,
     "metadata": {},
     "output_type": "execute_result"
    }
   ],
   "source": [
    "\n",
    "V = V + bv\n",
    "V.shape\n"
   ]
  },
  {
   "cell_type": "code",
   "execution_count": 16,
   "id": "3a5677b5-bf95-49c5-a56d-20fa7b5a5cc7",
   "metadata": {},
   "outputs": [
    {
     "data": {
      "text/plain": [
       "torch.Size([32, 40, 64])"
      ]
     },
     "execution_count": 16,
     "metadata": {},
     "output_type": "execute_result"
    }
   ],
   "source": [
    "\n",
    "out = torch.matmul( attention_scores , V )\n",
    "out.shape\n"
   ]
  },
  {
   "cell_type": "markdown",
   "id": "35c12e56-b27d-4bee-bc95-a5cfdc4f0b70",
   "metadata": {},
   "source": [
    "\n",
    "## Concatenate All 8 heads\n"
   ]
  },
  {
   "cell_type": "code",
   "execution_count": 17,
   "id": "c0091acb-871b-4f49-bf6b-a135cfe5d80c",
   "metadata": {},
   "outputs": [],
   "source": [
    "\n",
    "list_head = [ out for i in range(8) ]\n"
   ]
  },
  {
   "cell_type": "code",
   "execution_count": 18,
   "id": "83b227ad-15b8-410f-a167-d34d31fb6f41",
   "metadata": {},
   "outputs": [
    {
     "name": "stdout",
     "output_type": "stream",
     "text": [
      "torch.Size([32, 40, 64])\n",
      "torch.Size([32, 40, 64])\n",
      "torch.Size([32, 40, 64])\n",
      "torch.Size([32, 40, 64])\n",
      "torch.Size([32, 40, 64])\n",
      "torch.Size([32, 40, 64])\n",
      "torch.Size([32, 40, 64])\n",
      "torch.Size([32, 40, 64])\n"
     ]
    }
   ],
   "source": [
    "\n",
    "for j in range(len(list_head)):\n",
    "    print(   list_head[j].shape   )\n"
   ]
  },
  {
   "cell_type": "code",
   "execution_count": 19,
   "id": "024db9e5-4acf-4077-b245-4f113c894ee3",
   "metadata": {},
   "outputs": [
    {
     "data": {
      "text/plain": [
       "torch.Size([32, 40, 512])"
      ]
     },
     "execution_count": 19,
     "metadata": {},
     "output_type": "execute_result"
    }
   ],
   "source": [
    "\n",
    "out_cat = torch.cat(  list_head, dim = -1  )\n",
    "out_cat.shape\n"
   ]
  },
  {
   "cell_type": "markdown",
   "id": "bd79e2e6-ab5b-4402-9a59-6a421e625a31",
   "metadata": {},
   "source": [
    "\n",
    "## Another projection for the concatenated 8 heads\n"
   ]
  },
  {
   "cell_type": "code",
   "execution_count": 20,
   "id": "71b27877-0aef-4003-a0d5-f1e0e24c5e07",
   "metadata": {},
   "outputs": [
    {
     "data": {
      "text/plain": [
       "512"
      ]
     },
     "execution_count": 20,
     "metadata": {},
     "output_type": "execute_result"
    }
   ],
   "source": [
    "\n",
    "8*64\n"
   ]
  },
  {
   "cell_type": "code",
   "execution_count": 21,
   "id": "4c29eb32-d688-4a9d-b497-b812d5283ad2",
   "metadata": {},
   "outputs": [
    {
     "data": {
      "text/plain": [
       "torch.Size([32, 512, 512])"
      ]
     },
     "execution_count": 21,
     "metadata": {},
     "output_type": "execute_result"
    }
   ],
   "source": [
    "\n",
    "w0 = torch.randn(   N, 8*64, 512   )\n",
    "w0.shape\n"
   ]
  },
  {
   "cell_type": "code",
   "execution_count": 22,
   "id": "2602e324-a830-4e91-94ae-6b5a5a6f7e15",
   "metadata": {},
   "outputs": [
    {
     "data": {
      "text/plain": [
       "torch.Size([32, 40, 512])"
      ]
     },
     "execution_count": 22,
     "metadata": {},
     "output_type": "execute_result"
    }
   ],
   "source": [
    "\n",
    "b0 = torch.randn(  N,  40,  512  )\n",
    "b0.shape\n"
   ]
  },
  {
   "cell_type": "code",
   "execution_count": 23,
   "id": "d135e364-02dc-46ba-a2ba-57d808687714",
   "metadata": {},
   "outputs": [
    {
     "data": {
      "text/plain": [
       "torch.Size([32, 40, 512])"
      ]
     },
     "execution_count": 23,
     "metadata": {},
     "output_type": "execute_result"
    }
   ],
   "source": [
    "\n",
    "z = torch.matmul( out_cat, w0  )\n",
    "z.shape\n"
   ]
  },
  {
   "cell_type": "code",
   "execution_count": 24,
   "id": "d2baf570-b945-492b-aff6-0f127a0a97b1",
   "metadata": {},
   "outputs": [
    {
     "data": {
      "text/plain": [
       "torch.Size([32, 40, 512])"
      ]
     },
     "execution_count": 24,
     "metadata": {},
     "output_type": "execute_result"
    }
   ],
   "source": [
    "\n",
    "z = z + b0\n",
    "z.shape\n"
   ]
  },
  {
   "cell_type": "markdown",
   "id": "5e683f7b-6b13-4f5d-a5ca-36606745e381",
   "metadata": {},
   "source": [
    "\n",
    "## The Mask\n"
   ]
  },
  {
   "cell_type": "code",
   "execution_count": 25,
   "id": "33f85f49-1ca5-4bcf-ae82-b23f02550b2e",
   "metadata": {},
   "outputs": [
    {
     "data": {
      "text/plain": [
       "torch.Size([10, 10])"
      ]
     },
     "execution_count": 25,
     "metadata": {},
     "output_type": "execute_result"
    }
   ],
   "source": [
    "\n",
    "tril_def = torch.tril(\n",
    "              torch.ones(10, 10)      ## should be 40 but using 10 for viz\n",
    ")\n",
    "tril_def.shape\n"
   ]
  },
  {
   "cell_type": "code",
   "execution_count": 26,
   "id": "216baf5e-0cf1-4f66-a939-735a6c9bdcce",
   "metadata": {},
   "outputs": [
    {
     "data": {
      "text/plain": [
       "tensor([[1., 0., 0., 0., 0., 0., 0., 0., 0., 0.],\n",
       "        [1., 1., 0., 0., 0., 0., 0., 0., 0., 0.],\n",
       "        [1., 1., 1., 0., 0., 0., 0., 0., 0., 0.],\n",
       "        [1., 1., 1., 1., 0., 0., 0., 0., 0., 0.],\n",
       "        [1., 1., 1., 1., 1., 0., 0., 0., 0., 0.],\n",
       "        [1., 1., 1., 1., 1., 1., 0., 0., 0., 0.],\n",
       "        [1., 1., 1., 1., 1., 1., 1., 0., 0., 0.],\n",
       "        [1., 1., 1., 1., 1., 1., 1., 1., 0., 0.],\n",
       "        [1., 1., 1., 1., 1., 1., 1., 1., 1., 0.],\n",
       "        [1., 1., 1., 1., 1., 1., 1., 1., 1., 1.]])"
      ]
     },
     "execution_count": 26,
     "metadata": {},
     "output_type": "execute_result"
    }
   ],
   "source": [
    "\n",
    "tril_def \n"
   ]
  },
  {
   "cell_type": "code",
   "execution_count": 27,
   "id": "4364cc8c-b88e-467f-bde3-d3c3b5a3aa32",
   "metadata": {},
   "outputs": [
    {
     "data": {
      "text/plain": [
       "\"\\n\\n\\nimport torch.nn as nn\\n\\nmy_tril_reg = nn.Module.register_buffer('tril', tril_def)\\nmy_tril_reg\\n\\n\""
      ]
     },
     "execution_count": 27,
     "metadata": {},
     "output_type": "execute_result"
    }
   ],
   "source": [
    "\n",
    "## this is just to record tril_deg as a buffer that is not updated during training\n",
    "\n",
    "'''\n",
    "\n",
    "\n",
    "import torch.nn as nn\n",
    "\n",
    "my_tril_reg = nn.Module.register_buffer('tril', tril_def)\n",
    "my_tril_reg\n",
    "\n",
    "'''\n"
   ]
  },
  {
   "cell_type": "markdown",
   "id": "66f52cd4-5aa5-483c-81bb-646ebedabc6e",
   "metadata": {},
   "source": [
    "\n",
    "## Batch of 32 sentences in the attention matrix 40x40\n"
   ]
  },
  {
   "cell_type": "code",
   "execution_count": 28,
   "id": "57d04bd4-44e0-46fd-820a-97574c635dc1",
   "metadata": {},
   "outputs": [
    {
     "data": {
      "text/plain": [
       "torch.Size([32, 40, 40])"
      ]
     },
     "execution_count": 28,
     "metadata": {},
     "output_type": "execute_result"
    }
   ],
   "source": [
    "\n",
    "attention_scores.shape\n"
   ]
  },
  {
   "cell_type": "code",
   "execution_count": 29,
   "id": "47fa76e9-7ed1-48aa-8037-8dfda4beeab8",
   "metadata": {},
   "outputs": [
    {
     "data": {
      "text/plain": [
       "torch.Size([32, 10, 10])"
      ]
     },
     "execution_count": 29,
     "metadata": {},
     "output_type": "execute_result"
    }
   ],
   "source": [
    "\n",
    "size10_attention = torch.randn(   N, 10, 10  )\n",
    "size10_attention.shape\n"
   ]
  },
  {
   "cell_type": "markdown",
   "id": "bc8f49c7-0744-435d-ae9f-ab26594a1a31",
   "metadata": {},
   "source": [
    "\n",
    "## Use the tril for masking\n"
   ]
  },
  {
   "cell_type": "code",
   "execution_count": 30,
   "id": "4f8b6180-ffcd-41f0-ac78-1c9ace440e13",
   "metadata": {},
   "outputs": [
    {
     "data": {
      "text/plain": [
       "torch.Size([10, 10])"
      ]
     },
     "execution_count": 30,
     "metadata": {},
     "output_type": "execute_result"
    }
   ],
   "source": [
    "\n",
    "tril_def[:10, :10].shape\n"
   ]
  },
  {
   "cell_type": "code",
   "execution_count": 31,
   "id": "ae50f83a-9e73-4831-b14e-68e973694458",
   "metadata": {},
   "outputs": [
    {
     "data": {
      "text/plain": [
       "tensor([[False,  True,  True,  True,  True,  True,  True,  True,  True,  True],\n",
       "        [False, False,  True,  True,  True,  True,  True,  True,  True,  True],\n",
       "        [False, False, False,  True,  True,  True,  True,  True,  True,  True],\n",
       "        [False, False, False, False,  True,  True,  True,  True,  True,  True],\n",
       "        [False, False, False, False, False,  True,  True,  True,  True,  True],\n",
       "        [False, False, False, False, False, False,  True,  True,  True,  True],\n",
       "        [False, False, False, False, False, False, False,  True,  True,  True],\n",
       "        [False, False, False, False, False, False, False, False,  True,  True],\n",
       "        [False, False, False, False, False, False, False, False, False,  True],\n",
       "        [False, False, False, False, False, False, False, False, False, False]])"
      ]
     },
     "execution_count": 31,
     "metadata": {},
     "output_type": "execute_result"
    }
   ],
   "source": [
    "\n",
    "tril_def[:10, :10] == 0\n"
   ]
  },
  {
   "cell_type": "code",
   "execution_count": 32,
   "id": "ed320acc-b6d9-4692-a5ed-00e320f7c5c6",
   "metadata": {},
   "outputs": [
    {
     "data": {
      "text/plain": [
       "torch.Size([32, 10, 10])"
      ]
     },
     "execution_count": 32,
     "metadata": {},
     "output_type": "execute_result"
    }
   ],
   "source": [
    "\n",
    "size10_attention = size10_attention.masked_fill(\n",
    "                            tril_def[:10, :10] == 0,\n",
    "                            float('-inf')\n",
    "    \n",
    ")\n",
    "size10_attention.shape\n"
   ]
  },
  {
   "cell_type": "code",
   "execution_count": 34,
   "id": "95584dca-0788-4f3c-8adc-0a5fd2940794",
   "metadata": {},
   "outputs": [
    {
     "data": {
      "text/plain": [
       "tensor([[-0.8178,    -inf,    -inf,    -inf,    -inf,    -inf,    -inf,    -inf,\n",
       "            -inf,    -inf],\n",
       "        [-0.3788,  0.1090,    -inf,    -inf,    -inf,    -inf,    -inf,    -inf,\n",
       "            -inf,    -inf],\n",
       "        [ 0.7846,  0.9569, -1.8265,    -inf,    -inf,    -inf,    -inf,    -inf,\n",
       "            -inf,    -inf],\n",
       "        [-0.9664,  1.0718,  0.8340,  0.6549,    -inf,    -inf,    -inf,    -inf,\n",
       "            -inf,    -inf],\n",
       "        [ 1.4578,  2.2975,  0.9330, -1.4564, -0.2981,    -inf,    -inf,    -inf,\n",
       "            -inf,    -inf],\n",
       "        [-0.1892,  0.4582,  1.8721,  0.0903, -0.1273,  0.3352,    -inf,    -inf,\n",
       "            -inf,    -inf],\n",
       "        [-0.5006, -2.3496, -0.3927, -1.1587,  0.6523, -1.2205,  0.8650,    -inf,\n",
       "            -inf,    -inf],\n",
       "        [-1.4079, -0.8742,  1.4084, -0.2154, -0.2828,  0.1901, -0.6626, -0.6787,\n",
       "            -inf,    -inf],\n",
       "        [ 0.0438, -0.6462, -0.2794,  0.6257,  0.6305,  0.2509,  0.2491, -0.1652,\n",
       "          0.5916,    -inf],\n",
       "        [-0.9955,  0.3494,  0.6300, -0.5691,  1.5299, -0.0609, -0.3390, -0.7247,\n",
       "         -0.6828, -0.4262]])"
      ]
     },
     "execution_count": 34,
     "metadata": {},
     "output_type": "execute_result"
    }
   ],
   "source": [
    "\n",
    "size10_attention[0]  ## just 1 of the 32 in batch\n"
   ]
  },
  {
   "cell_type": "markdown",
   "id": "3db71d7e-1bee-40a8-bde2-ecc0f0dd65b0",
   "metadata": {},
   "source": [
    "\n",
    "## Negative infinities\n",
    "\n",
    "* softmax makes negative infinities close to zero\n"
   ]
  },
  {
   "cell_type": "code",
   "execution_count": 35,
   "id": "b32cb762-77ba-4494-9c6e-060f0c598bc5",
   "metadata": {},
   "outputs": [
    {
     "data": {
      "text/plain": [
       "tensor([[-0.8178,    -inf,    -inf,    -inf,    -inf,    -inf,    -inf,    -inf,\n",
       "            -inf,    -inf],\n",
       "        [-0.3788,  0.1090,    -inf,    -inf,    -inf,    -inf,    -inf,    -inf,\n",
       "            -inf,    -inf],\n",
       "        [ 0.7846,  0.9569, -1.8265,    -inf,    -inf,    -inf,    -inf,    -inf,\n",
       "            -inf,    -inf],\n",
       "        [-0.9664,  1.0718,  0.8340,  0.6549,    -inf,    -inf,    -inf,    -inf,\n",
       "            -inf,    -inf],\n",
       "        [ 1.4578,  2.2975,  0.9330, -1.4564, -0.2981,    -inf,    -inf,    -inf,\n",
       "            -inf,    -inf],\n",
       "        [-0.1892,  0.4582,  1.8721,  0.0903, -0.1273,  0.3352,    -inf,    -inf,\n",
       "            -inf,    -inf],\n",
       "        [-0.5006, -2.3496, -0.3927, -1.1587,  0.6523, -1.2205,  0.8650,    -inf,\n",
       "            -inf,    -inf],\n",
       "        [-1.4079, -0.8742,  1.4084, -0.2154, -0.2828,  0.1901, -0.6626, -0.6787,\n",
       "            -inf,    -inf],\n",
       "        [ 0.0438, -0.6462, -0.2794,  0.6257,  0.6305,  0.2509,  0.2491, -0.1652,\n",
       "          0.5916,    -inf],\n",
       "        [-0.9955,  0.3494,  0.6300, -0.5691,  1.5299, -0.0609, -0.3390, -0.7247,\n",
       "         -0.6828, -0.4262]])"
      ]
     },
     "execution_count": 35,
     "metadata": {},
     "output_type": "execute_result"
    }
   ],
   "source": [
    "\n",
    "size10_attention[0]\n"
   ]
  },
  {
   "cell_type": "code",
   "execution_count": 36,
   "id": "79cec5b4-4eb4-45b3-aa55-b9ebeca973e4",
   "metadata": {},
   "outputs": [
    {
     "data": {
      "text/plain": [
       "torch.Size([32, 10, 10])"
      ]
     },
     "execution_count": 36,
     "metadata": {},
     "output_type": "execute_result"
    }
   ],
   "source": [
    "\n",
    "size10_attention_softmax = F.softmax( size10_attention, dim=-1)\n",
    "size10_attention_softmax.shape\n"
   ]
  },
  {
   "cell_type": "code",
   "execution_count": 38,
   "id": "297c817e-200b-41a0-8ddf-b8fe3ec64ff2",
   "metadata": {},
   "outputs": [
    {
     "data": {
      "text/plain": [
       "tensor([[1.0000, 0.0000, 0.0000, 0.0000, 0.0000, 0.0000, 0.0000, 0.0000, 0.0000,\n",
       "         0.0000],\n",
       "        [0.3804, 0.6196, 0.0000, 0.0000, 0.0000, 0.0000, 0.0000, 0.0000, 0.0000,\n",
       "         0.0000],\n",
       "        [0.4422, 0.5253, 0.0325, 0.0000, 0.0000, 0.0000, 0.0000, 0.0000, 0.0000,\n",
       "         0.0000],\n",
       "        [0.0505, 0.3879, 0.3058, 0.2557, 0.0000, 0.0000, 0.0000, 0.0000, 0.0000,\n",
       "         0.0000],\n",
       "        [0.2419, 0.5601, 0.1431, 0.0131, 0.0418, 0.0000, 0.0000, 0.0000, 0.0000,\n",
       "         0.0000],\n",
       "        [0.0674, 0.1287, 0.5293, 0.0891, 0.0717, 0.1138, 0.0000, 0.0000, 0.0000,\n",
       "         0.0000],\n",
       "        [0.0965, 0.0152, 0.1075, 0.0500, 0.3057, 0.0470, 0.3781, 0.0000, 0.0000,\n",
       "         0.0000],\n",
       "        [0.0286, 0.0488, 0.4787, 0.0944, 0.0882, 0.1416, 0.0603, 0.0594, 0.0000,\n",
       "         0.0000],\n",
       "        [0.0925, 0.0464, 0.0670, 0.1655, 0.1663, 0.1138, 0.1136, 0.0750, 0.1600,\n",
       "         0.0000],\n",
       "        [0.0304, 0.1168, 0.1546, 0.0466, 0.3802, 0.0775, 0.0587, 0.0399, 0.0416,\n",
       "         0.0538]])"
      ]
     },
     "execution_count": 38,
     "metadata": {},
     "output_type": "execute_result"
    }
   ],
   "source": [
    "\n",
    "size10_attention_softmax[0]\n"
   ]
  },
  {
   "cell_type": "markdown",
   "id": "d68acaba-7138-4d85-9d98-ba97e29dd483",
   "metadata": {},
   "source": [
    "\n",
    "## Assume batch of only one sentence\n"
   ]
  },
  {
   "cell_type": "code",
   "execution_count": 50,
   "id": "da0deb66-ae7e-4b90-8182-a6dec3c1a0d7",
   "metadata": {},
   "outputs": [
    {
     "data": {
      "text/plain": [
       "torch.Size([1, 6, 6])"
      ]
     },
     "execution_count": 50,
     "metadata": {},
     "output_type": "execute_result"
    }
   ],
   "source": [
    "\n",
    "size_1_attention = torch.randn(  1, 6, 6  )\n",
    "size_1_attention.shape\n"
   ]
  },
  {
   "cell_type": "code",
   "execution_count": 51,
   "id": "62d004b1-dbf6-4e18-aed4-e236c50f39d1",
   "metadata": {},
   "outputs": [
    {
     "data": {
      "text/plain": [
       "tensor([[[-0.0570,  0.0402, -1.5891,  0.1496, -0.3673,  2.0504],\n",
       "         [-0.5728, -1.3474, -0.1137,  0.3970,  0.2269, -0.2877],\n",
       "         [ 1.6589,  2.7081,  0.2418,  0.9370, -0.5362, -1.2214],\n",
       "         [ 0.1721, -0.3412, -0.5787, -0.5658,  1.6224, -1.5423],\n",
       "         [ 1.0458, -0.9708, -0.6614,  0.5996, -0.5732, -0.7677],\n",
       "         [-0.4138, -1.1113, -0.9601, -0.5756, -0.4101, -1.1919]]])"
      ]
     },
     "execution_count": 51,
     "metadata": {},
     "output_type": "execute_result"
    }
   ],
   "source": [
    "\n",
    "size_1_attention\n"
   ]
  },
  {
   "cell_type": "code",
   "execution_count": 52,
   "id": "51cd9b52-69e4-4485-83be-87a2bac51641",
   "metadata": {},
   "outputs": [
    {
     "data": {
      "text/plain": [
       "torch.Size([1, 6, 6])"
      ]
     },
     "execution_count": 52,
     "metadata": {},
     "output_type": "execute_result"
    }
   ],
   "source": [
    "\n",
    "size_1_attention = size_1_attention.masked_fill(\n",
    "                            tril_def[:6, :6] == 0,\n",
    "                            float('-inf')\n",
    "    \n",
    ")\n",
    "size_1_attention.shape\n"
   ]
  },
  {
   "cell_type": "code",
   "execution_count": 53,
   "id": "dd677422-2390-4348-aa8e-ef9bbb1c3eb6",
   "metadata": {},
   "outputs": [
    {
     "data": {
      "text/plain": [
       "torch.Size([1, 6, 6])"
      ]
     },
     "execution_count": 53,
     "metadata": {},
     "output_type": "execute_result"
    }
   ],
   "source": [
    "\n",
    "size_1_attention.shape\n"
   ]
  },
  {
   "cell_type": "code",
   "execution_count": 54,
   "id": "dd09d5f6-904f-47c8-93c7-90fb2a3b3875",
   "metadata": {},
   "outputs": [
    {
     "data": {
      "text/plain": [
       "tensor([[[-0.0570,    -inf,    -inf,    -inf,    -inf,    -inf],\n",
       "         [-0.5728, -1.3474,    -inf,    -inf,    -inf,    -inf],\n",
       "         [ 1.6589,  2.7081,  0.2418,    -inf,    -inf,    -inf],\n",
       "         [ 0.1721, -0.3412, -0.5787, -0.5658,    -inf,    -inf],\n",
       "         [ 1.0458, -0.9708, -0.6614,  0.5996, -0.5732,    -inf],\n",
       "         [-0.4138, -1.1113, -0.9601, -0.5756, -0.4101, -1.1919]]])"
      ]
     },
     "execution_count": 54,
     "metadata": {},
     "output_type": "execute_result"
    }
   ],
   "source": [
    "\n",
    "size_1_attention\n"
   ]
  },
  {
   "cell_type": "code",
   "execution_count": 55,
   "id": "d5e3e54e-be6e-4230-b862-082d6b437d1d",
   "metadata": {},
   "outputs": [
    {
     "data": {
      "text/plain": [
       "torch.Size([1, 6, 6])"
      ]
     },
     "execution_count": 55,
     "metadata": {},
     "output_type": "execute_result"
    }
   ],
   "source": [
    "\n",
    "size_1_attention_softmax = F.softmax( size_1_attention, dim=-1)\n",
    "size_1_attention_softmax.shape\n"
   ]
  },
  {
   "cell_type": "code",
   "execution_count": 56,
   "id": "829f8689-0896-49d7-b633-cf832b76af65",
   "metadata": {},
   "outputs": [
    {
     "data": {
      "text/plain": [
       "tensor([[[1.0000, 0.0000, 0.0000, 0.0000, 0.0000, 0.0000],\n",
       "         [0.6845, 0.3155, 0.0000, 0.0000, 0.0000, 0.0000],\n",
       "         [0.2440, 0.6968, 0.0592, 0.0000, 0.0000, 0.0000],\n",
       "         [0.3924, 0.2348, 0.1852, 0.1876, 0.0000, 0.0000],\n",
       "         [0.4646, 0.0618, 0.0843, 0.2973, 0.0920, 0.0000],\n",
       "         [0.2278, 0.1134, 0.1319, 0.1937, 0.2286, 0.1046]]])"
      ]
     },
     "execution_count": 56,
     "metadata": {},
     "output_type": "execute_result"
    }
   ],
   "source": [
    "\n",
    "size_1_attention_softmax\n"
   ]
  },
  {
   "cell_type": "code",
   "execution_count": null,
   "id": "c14d3d84-3598-4bf1-8eb5-f9657a922d1b",
   "metadata": {},
   "outputs": [],
   "source": []
  },
  {
   "cell_type": "markdown",
   "id": "c66344b0-6be2-4c8e-9c54-5d6ba0c3d37f",
   "metadata": {},
   "source": [
    "\n",
    "## Token Embeddings\n"
   ]
  },
  {
   "cell_type": "code",
   "execution_count": 62,
   "id": "5eda425a-89d7-4820-bcfe-51a66982d62d",
   "metadata": {},
   "outputs": [],
   "source": [
    "\n",
    "import torch\n",
    "import torch.nn as nn\n",
    "\n"
   ]
  },
  {
   "cell_type": "code",
   "execution_count": 63,
   "id": "85bc41ec-1d22-457a-9925-6d84cda54ea5",
   "metadata": {},
   "outputs": [],
   "source": [
    "\n",
    "# Suppose we have a vocab of 1000 tokens\n",
    "vocab_size = 1000\n",
    "embedding_dim = 512\n",
    "\n",
    "seq_len = 10\n",
    "batch_size = 2\n"
   ]
  },
  {
   "cell_type": "code",
   "execution_count": 64,
   "id": "7b99448b-196c-4442-a047-323688381cd4",
   "metadata": {},
   "outputs": [],
   "source": [
    "\n",
    "# Fake input: token IDs\n",
    "tokens = torch.randint(0, vocab_size, (batch_size, seq_len))  # [2, 10]\n"
   ]
  },
  {
   "cell_type": "code",
   "execution_count": 65,
   "id": "878a2ae3-c8ae-4592-947b-150b8072d58f",
   "metadata": {},
   "outputs": [
    {
     "data": {
      "text/plain": [
       "torch.Size([2, 10])"
      ]
     },
     "execution_count": 65,
     "metadata": {},
     "output_type": "execute_result"
    }
   ],
   "source": [
    "\n",
    "tokens.shape\n"
   ]
  },
  {
   "cell_type": "code",
   "execution_count": 66,
   "id": "0c622498-aae1-4939-b15e-68bcb58a8943",
   "metadata": {},
   "outputs": [
    {
     "data": {
      "text/plain": [
       "tensor([[109, 694, 180, 383, 270,  43, 383, 961, 183, 845],\n",
       "        [ 77, 588, 779, 664, 402, 764,  97, 369, 781, 295]])"
      ]
     },
     "execution_count": 66,
     "metadata": {},
     "output_type": "execute_result"
    }
   ],
   "source": [
    "\n",
    "tokens\n"
   ]
  },
  {
   "cell_type": "code",
   "execution_count": 67,
   "id": "0b03ce5f-08b2-44ad-a756-07607878e139",
   "metadata": {},
   "outputs": [],
   "source": [
    "\n",
    "# Define embedding layer\n",
    "embedding = nn.Embedding(num_embeddings=vocab_size, embedding_dim=embedding_dim)\n"
   ]
  },
  {
   "cell_type": "code",
   "execution_count": 68,
   "id": "40c39e4d-8e97-487c-9197-04da3a73171a",
   "metadata": {},
   "outputs": [
    {
     "name": "stdout",
     "output_type": "stream",
     "text": [
      "torch.Size([2, 10, 512])\n"
     ]
    }
   ],
   "source": [
    "\n",
    "# Get embedded vectors\n",
    "x = embedding(tokens)  # shape: [2, 10, 512]\n",
    "print(x.shape)\n"
   ]
  },
  {
   "cell_type": "markdown",
   "id": "9037e840-bb7a-4225-afa9-09b49919005a",
   "metadata": {},
   "source": [
    "\n",
    "## Now Positional and token embedding together\n"
   ]
  },
  {
   "cell_type": "code",
   "execution_count": 69,
   "id": "da043394-92df-4dcf-9b0f-b5d415b0454b",
   "metadata": {},
   "outputs": [],
   "source": [
    "\n",
    "import torch\n",
    "import torch.nn as nn\n"
   ]
  },
  {
   "cell_type": "code",
   "execution_count": 70,
   "id": "52b18fda-36b9-4609-b313-3da82f94b500",
   "metadata": {},
   "outputs": [],
   "source": [
    "\n",
    "# Parameters\n",
    "vocab_size     = 1000     # Size of the vocabulary\n",
    "embedding_dim  = 64       # Dimension of embedding\n",
    "seq_len        = 10       # Max sequence length\n",
    "batch_size     = 2        # Number of sequences in a batch\n"
   ]
  },
  {
   "cell_type": "code",
   "execution_count": 72,
   "id": "9c495ae5-f81c-41cb-b923-579052e59099",
   "metadata": {},
   "outputs": [
    {
     "data": {
      "text/plain": [
       "tensor([[666, 462, 946, 723, 790, 482, 457, 149, 684, 926],\n",
       "        [566, 525,  65,  62, 991, 726, 912, 234, 903, 990]])"
      ]
     },
     "execution_count": 72,
     "metadata": {},
     "output_type": "execute_result"
    }
   ],
   "source": [
    "\n",
    "# Token indices input (simulated)\n",
    "tokens = torch.randint(0, vocab_size, (batch_size, seq_len))  # shape: [2, 10]\n",
    "tokens"
   ]
  },
  {
   "cell_type": "code",
   "execution_count": 73,
   "id": "82bffa8c-60a6-43f0-a3df-d047edcf1171",
   "metadata": {},
   "outputs": [],
   "source": [
    "\n",
    "# Token embedding\n",
    "token_embedding = nn.Embedding(num_embeddings=vocab_size, embedding_dim=embedding_dim)\n"
   ]
  },
  {
   "cell_type": "code",
   "execution_count": 74,
   "id": "fb2f292b-4da7-46a9-9c28-e98db51c1e60",
   "metadata": {},
   "outputs": [],
   "source": [
    "\n",
    "# Positional embedding (learned)\n",
    "position_embedding = nn.Embedding(num_embeddings=seq_len, embedding_dim=embedding_dim)\n"
   ]
  },
  {
   "cell_type": "code",
   "execution_count": 75,
   "id": "72c978f3-aaf1-4006-8f76-a9fec434c970",
   "metadata": {},
   "outputs": [
    {
     "data": {
      "text/plain": [
       "torch.Size([2, 10])"
      ]
     },
     "execution_count": 75,
     "metadata": {},
     "output_type": "execute_result"
    }
   ],
   "source": [
    "\n",
    "tokens.shape\n"
   ]
  },
  {
   "cell_type": "code",
   "execution_count": 76,
   "id": "c2ccce95-2634-43ae-9ed2-bda0e500ab1a",
   "metadata": {},
   "outputs": [
    {
     "data": {
      "text/plain": [
       "torch.Size([2, 10, 64])"
      ]
     },
     "execution_count": 76,
     "metadata": {},
     "output_type": "execute_result"
    }
   ],
   "source": [
    "\n",
    "# Get token embeddings\n",
    "x_token = token_embedding(tokens)  # shape: [2, 10, 64]\n",
    "x_token.shape\n"
   ]
  },
  {
   "cell_type": "code",
   "execution_count": 77,
   "id": "403b67bc-7f07-467e-8e27-0b4f05ba4e2d",
   "metadata": {},
   "outputs": [
    {
     "data": {
      "text/plain": [
       "tensor([[0, 1, 2, 3, 4, 5, 6, 7, 8, 9],\n",
       "        [0, 1, 2, 3, 4, 5, 6, 7, 8, 9]])"
      ]
     },
     "execution_count": 77,
     "metadata": {},
     "output_type": "execute_result"
    }
   ],
   "source": [
    "\n",
    "# Create position indices for each token in the sequence\n",
    "positions = torch.arange(seq_len).unsqueeze(0).expand(batch_size, seq_len)  # shape: [2, 10]\n",
    "positions\n"
   ]
  },
  {
   "cell_type": "code",
   "execution_count": 78,
   "id": "886b3276-d715-47cf-98dd-ff0c0d73cbf5",
   "metadata": {},
   "outputs": [
    {
     "data": {
      "text/plain": [
       "torch.Size([2, 10])"
      ]
     },
     "execution_count": 78,
     "metadata": {},
     "output_type": "execute_result"
    }
   ],
   "source": [
    "\n",
    "positions.shape\n"
   ]
  },
  {
   "cell_type": "code",
   "execution_count": 79,
   "id": "0d078543-f1c0-4a5d-8d00-a3e3d51387c8",
   "metadata": {},
   "outputs": [
    {
     "data": {
      "text/plain": [
       "torch.Size([2, 10, 64])"
      ]
     },
     "execution_count": 79,
     "metadata": {},
     "output_type": "execute_result"
    }
   ],
   "source": [
    "\n",
    "# Get position embeddings\n",
    "x_pos = position_embedding(positions)  # shape: [2, 10, 64]\n",
    "x_pos.shape\n"
   ]
  },
  {
   "cell_type": "code",
   "execution_count": 80,
   "id": "447b9af7-35b5-4e70-8249-aa38a0ded343",
   "metadata": {},
   "outputs": [],
   "source": [
    "\n",
    "# Add both embeddings\n",
    "x = x_token + x_pos  # shape: [2, 10, 64]\n"
   ]
  },
  {
   "cell_type": "code",
   "execution_count": 81,
   "id": "555664fd-d0c1-4c2d-98b0-0374eedeaf00",
   "metadata": {},
   "outputs": [
    {
     "name": "stdout",
     "output_type": "stream",
     "text": [
      "torch.Size([2, 10, 64])\n"
     ]
    }
   ],
   "source": [
    "\n",
    "\n",
    "print(x.shape)  # Final embedded representation with position info\n"
   ]
  },
  {
   "cell_type": "code",
   "execution_count": null,
   "id": "515fe47d-eafe-4815-bd90-78ffaefd5cdf",
   "metadata": {},
   "outputs": [],
   "source": []
  },
  {
   "cell_type": "code",
   "execution_count": null,
   "id": "3e27b54f-4589-4e70-8b50-e08556cbb238",
   "metadata": {},
   "outputs": [],
   "source": []
  },
  {
   "cell_type": "code",
   "execution_count": null,
   "id": "d13e27a1-5981-45c1-aa43-b2fd4b199930",
   "metadata": {},
   "outputs": [],
   "source": []
  },
  {
   "cell_type": "code",
   "execution_count": null,
   "id": "60e87ee8-df88-42bb-b1e7-ad23eeb4e9ab",
   "metadata": {},
   "outputs": [],
   "source": []
  },
  {
   "cell_type": "code",
   "execution_count": null,
   "id": "4e6dafea-eced-4eef-bbb5-61177487212e",
   "metadata": {},
   "outputs": [],
   "source": []
  },
  {
   "cell_type": "code",
   "execution_count": null,
   "id": "3dc26b59-0e7d-4569-9e22-b8171900e65c",
   "metadata": {},
   "outputs": [],
   "source": []
  },
  {
   "cell_type": "code",
   "execution_count": null,
   "id": "5fab67e9-f1c4-4dbf-8787-eab567416cf8",
   "metadata": {},
   "outputs": [],
   "source": []
  }
 ],
 "metadata": {
  "kernelspec": {
   "display_name": "Python 3 (ipykernel)",
   "language": "python",
   "name": "python3"
  },
  "language_info": {
   "codemirror_mode": {
    "name": "ipython",
    "version": 3
   },
   "file_extension": ".py",
   "mimetype": "text/x-python",
   "name": "python",
   "nbconvert_exporter": "python",
   "pygments_lexer": "ipython3",
   "version": "3.9.18"
  }
 },
 "nbformat": 4,
 "nbformat_minor": 5
}

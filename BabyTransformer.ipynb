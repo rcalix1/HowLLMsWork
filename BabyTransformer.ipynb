{
 "cells": [
  {
   "cell_type": "markdown",
   "id": "e683e39e-d7b7-476a-be5c-712fdce9ec0f",
   "metadata": {},
   "source": [
    "\n",
    "## Baby Transformer GPT\n"
   ]
  },
  {
   "cell_type": "code",
   "execution_count": 1,
   "id": "a5ea9be9-b686-4f02-8479-3256af292731",
   "metadata": {},
   "outputs": [],
   "source": [
    "\n",
    "import torch\n",
    "import torch.nn as nn\n",
    "import torch.nn.functional as F\n"
   ]
  },
  {
   "cell_type": "code",
   "execution_count": 2,
   "id": "c574d6f7-f36f-4d11-bc55-d0802e8d1d5a",
   "metadata": {},
   "outputs": [],
   "source": [
    "\n",
    "# === Config ===\n",
    "batch_size = 2\n",
    "seq_len = 10\n",
    "vocab_size = 1000\n",
    "embed_dim = 64\n",
    "ff_dim = 128\n"
   ]
  },
  {
   "cell_type": "code",
   "execution_count": 3,
   "id": "23e55e89-7a6d-4954-928f-41b50c06455b",
   "metadata": {},
   "outputs": [
    {
     "data": {
      "text/plain": [
       "tensor([[251, 528, 243,  43, 851, 227, 169, 821, 314, 854],\n",
       "        [185, 719, 518, 847, 244, 180, 661,  95, 118, 687]])"
      ]
     },
     "execution_count": 3,
     "metadata": {},
     "output_type": "execute_result"
    }
   ],
   "source": [
    "\n",
    "# === Fake input: token IDs ===\n",
    "tokens = torch.randint(0, vocab_size, (batch_size, seq_len))  # shape: [2, 10]\n",
    "tokens \n"
   ]
  },
  {
   "cell_type": "code",
   "execution_count": 4,
   "id": "6014f3e3-940e-4c54-95cc-654e44a448d3",
   "metadata": {},
   "outputs": [],
   "source": [
    "\n",
    "# === Embedding layers ===\n",
    "token_embed = nn.Embedding(vocab_size, embed_dim)\n",
    "pos_embed   = nn.Embedding(seq_len, embed_dim)\n"
   ]
  },
  {
   "cell_type": "code",
   "execution_count": 5,
   "id": "5e1645de-ab0a-45a9-96ae-a48922171451",
   "metadata": {},
   "outputs": [],
   "source": [
    "\n",
    "# Token + Positional Embedding\n",
    "\n",
    "x_token   = token_embed(tokens)  # [2, 10, 64]\n",
    "positions = torch.arange(seq_len).unsqueeze(0).expand(batch_size, seq_len)\n",
    "x_pos = pos_embed(positions)   # [2, 10, 64]\n"
   ]
  },
  {
   "cell_type": "code",
   "execution_count": 6,
   "id": "6f8d4721-802b-455a-a5a8-92f73003b1d8",
   "metadata": {},
   "outputs": [
    {
     "data": {
      "text/plain": [
       "torch.Size([2, 10, 64])"
      ]
     },
     "execution_count": 6,
     "metadata": {},
     "output_type": "execute_result"
    }
   ],
   "source": [
    "\n",
    "x = x_token + x_pos  # [2, 10, 64]\n",
    "x.shape\n"
   ]
  },
  {
   "cell_type": "code",
   "execution_count": 7,
   "id": "0391d8c3-c25c-408a-a70a-6bf2e771e2d9",
   "metadata": {},
   "outputs": [],
   "source": [
    "\n",
    "# === Self-Attention ===\n",
    "Wq = nn.Linear(embed_dim, embed_dim)\n",
    "Wk = nn.Linear(embed_dim, embed_dim)\n",
    "Wv = nn.Linear(embed_dim, embed_dim)\n"
   ]
  },
  {
   "cell_type": "code",
   "execution_count": 8,
   "id": "8ea14afd-cb72-4043-b22d-6b8a1c2b9708",
   "metadata": {},
   "outputs": [
    {
     "data": {
      "text/plain": [
       "torch.Size([2, 10, 64])"
      ]
     },
     "execution_count": 8,
     "metadata": {},
     "output_type": "execute_result"
    }
   ],
   "source": [
    "\n",
    "Q = Wq(x)  # [2, 10, 64]\n",
    "K = Wk(x)\n",
    "V = Wv(x)\n",
    "\n",
    "K.shape\n"
   ]
  },
  {
   "cell_type": "code",
   "execution_count": 9,
   "id": "51906dc0-7627-4b66-80f3-e36ffbd11590",
   "metadata": {},
   "outputs": [
    {
     "data": {
      "text/plain": [
       "torch.Size([2, 10, 10])"
      ]
     },
     "execution_count": 9,
     "metadata": {},
     "output_type": "execute_result"
    }
   ],
   "source": [
    "\n",
    "# Scaled dot-product attention\n",
    "attn_scores = Q @ K.transpose(-2, -1) / (embed_dim ** 0.5)  # [2, 10, 10]\n",
    "attn_weights = F.softmax(attn_scores, dim=-1)              # [2, 10, 10]\n",
    "                           \n",
    "attn_weights.shape\n"
   ]
  },
  {
   "cell_type": "code",
   "execution_count": 10,
   "id": "ddc924ba-24b4-4f0a-a464-e17032dffcea",
   "metadata": {},
   "outputs": [
    {
     "data": {
      "text/plain": [
       "torch.Size([2, 10, 64])"
      ]
     },
     "execution_count": 10,
     "metadata": {},
     "output_type": "execute_result"
    }
   ],
   "source": [
    "\n",
    "attn_output = attn_weights @ V  \n",
    "\n",
    "attn_output.shape\n"
   ]
  },
  {
   "cell_type": "code",
   "execution_count": null,
   "id": "e9661a4e-ff72-415b-a76f-ab9464835a2f",
   "metadata": {},
   "outputs": [],
   "source": []
  },
  {
   "cell_type": "code",
   "execution_count": 11,
   "id": "a4b36175-318e-42ba-991e-1e42bd20b035",
   "metadata": {},
   "outputs": [],
   "source": [
    "\n",
    "\n",
    "# === Feedforward layer ===\n",
    "ff1 = nn.Linear(embed_dim, ff_dim)\n",
    "ff2 = nn.Linear(ff_dim, embed_dim)\n"
   ]
  },
  {
   "cell_type": "code",
   "execution_count": 12,
   "id": "add0f6e8-b1f6-4aa1-895d-5346834f6e10",
   "metadata": {},
   "outputs": [
    {
     "data": {
      "text/plain": [
       "torch.Size([2, 10, 64])"
      ]
     },
     "execution_count": 12,
     "metadata": {},
     "output_type": "execute_result"
    }
   ],
   "source": [
    "\n",
    "ff_output = ff2(F.relu(ff1(attn_output)))  # [2, 10, 64]\n",
    "ff_output.shape\n"
   ]
  },
  {
   "cell_type": "code",
   "execution_count": 13,
   "id": "ab090eb1-8051-450e-83cd-1a5d04cad924",
   "metadata": {},
   "outputs": [],
   "source": [
    "\n",
    "# === Final projection to vocab ===\n",
    "to_vocab = nn.Linear(embed_dim, vocab_size)\n",
    "logits   = to_vocab(ff_output)  # [2, 10, vocab_size]\n",
    "\n"
   ]
  },
  {
   "cell_type": "code",
   "execution_count": 14,
   "id": "5a715895-67d1-45e8-a145-e429fc765915",
   "metadata": {},
   "outputs": [
    {
     "name": "stdout",
     "output_type": "stream",
     "text": [
      "Logits shape: torch.Size([2, 10, 1000])\n"
     ]
    }
   ],
   "source": [
    "\n",
    "\n",
    "print(\"Logits shape:\", logits.shape)  # [2, 10, 1000]\n"
   ]
  },
  {
   "cell_type": "code",
   "execution_count": null,
   "id": "ef5acd98-5e86-4cbd-b050-7f1ce48bd81d",
   "metadata": {},
   "outputs": [],
   "source": []
  },
  {
   "cell_type": "code",
   "execution_count": null,
   "id": "878300e5-5040-47e8-b9ad-12adb02c575d",
   "metadata": {},
   "outputs": [],
   "source": []
  },
  {
   "cell_type": "code",
   "execution_count": null,
   "id": "76230ff4-fdb1-4425-9689-fbc0f0554446",
   "metadata": {},
   "outputs": [],
   "source": []
  },
  {
   "cell_type": "code",
   "execution_count": null,
   "id": "c25ec7cd-2a7a-4488-bbf0-4120c4e0f2ee",
   "metadata": {},
   "outputs": [],
   "source": []
  },
  {
   "cell_type": "code",
   "execution_count": null,
   "id": "e48ff5e2-758a-4654-8d27-cd7f20041c9c",
   "metadata": {},
   "outputs": [],
   "source": []
  },
  {
   "cell_type": "code",
   "execution_count": null,
   "id": "71ce8454-69ff-4008-bcb3-b60661f1ed66",
   "metadata": {},
   "outputs": [],
   "source": []
  },
  {
   "cell_type": "code",
   "execution_count": null,
   "id": "6b5ef218-7484-46a6-afbf-3420ef8c5528",
   "metadata": {},
   "outputs": [],
   "source": []
  },
  {
   "cell_type": "code",
   "execution_count": null,
   "id": "1a20fff2-3275-4fbb-9a43-f78d07f60436",
   "metadata": {},
   "outputs": [],
   "source": []
  },
  {
   "cell_type": "code",
   "execution_count": null,
   "id": "525d19d5-2078-4013-bee9-1e3a54b3df60",
   "metadata": {},
   "outputs": [],
   "source": []
  }
 ],
 "metadata": {
  "kernelspec": {
   "display_name": "Python 3 (ipykernel)",
   "language": "python",
   "name": "python3"
  },
  "language_info": {
   "codemirror_mode": {
    "name": "ipython",
    "version": 3
   },
   "file_extension": ".py",
   "mimetype": "text/x-python",
   "name": "python",
   "nbconvert_exporter": "python",
   "pygments_lexer": "ipython3",
   "version": "3.9.18"
  }
 },
 "nbformat": 4,
 "nbformat_minor": 5
}

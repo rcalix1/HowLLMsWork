{
 "cells": [
  {
   "cell_type": "code",
   "execution_count": null,
   "id": "e096cb26-4aa3-4a52-833c-46dac920de71",
   "metadata": {},
   "outputs": [],
   "source": []
  },
  {
   "cell_type": "code",
   "execution_count": 1,
   "id": "922550d6-ea2d-4dd3-be8e-7bdb029b2d17",
   "metadata": {},
   "outputs": [],
   "source": [
    "\n",
    "import torch\n"
   ]
  },
  {
   "cell_type": "code",
   "execution_count": 5,
   "id": "fb8f8f3c-2582-4ebc-87e3-30ad5ed8b0a2",
   "metadata": {},
   "outputs": [],
   "source": [
    "\n",
    "## !pip install tiktoken\n"
   ]
  },
  {
   "cell_type": "code",
   "execution_count": 6,
   "id": "d7425c4b-1aee-4c8c-8cd1-3f06cd9ace4d",
   "metadata": {},
   "outputs": [],
   "source": [
    "\n",
    "import tiktoken\n"
   ]
  },
  {
   "cell_type": "code",
   "execution_count": null,
   "id": "f4edadce-05c7-4358-afd8-5dbfc82aa1a0",
   "metadata": {},
   "outputs": [],
   "source": [
    "\n",
    "\n"
   ]
  },
  {
   "cell_type": "code",
   "execution_count": 7,
   "id": "84d53598-1003-4771-acf4-a039e76eef04",
   "metadata": {},
   "outputs": [
    {
     "data": {
      "text/plain": [
       "torch.Size([150, 16])"
      ]
     },
     "execution_count": 7,
     "metadata": {},
     "output_type": "execute_result"
    }
   ],
   "source": [
    "\n",
    "x = torch.randn(150, 16)\n",
    "x.shape\n"
   ]
  },
  {
   "cell_type": "code",
   "execution_count": 8,
   "id": "286ed9f5-da29-42aa-a96a-15f38b06dae6",
   "metadata": {},
   "outputs": [
    {
     "data": {
      "text/plain": [
       "torch.Size([16, 8])"
      ]
     },
     "execution_count": 8,
     "metadata": {},
     "output_type": "execute_result"
    }
   ],
   "source": [
    "\n",
    "w = torch.randn( 16, 8 )\n",
    "w.shape\n"
   ]
  },
  {
   "cell_type": "code",
   "execution_count": 9,
   "id": "1db2f31f-8d53-4cea-bf62-6bc19c02b353",
   "metadata": {},
   "outputs": [
    {
     "data": {
      "text/plain": [
       "torch.Size([150, 8])"
      ]
     },
     "execution_count": 9,
     "metadata": {},
     "output_type": "execute_result"
    }
   ],
   "source": [
    "\n",
    "y = torch.matmul(  x, w  ) \n",
    "y.shape\n"
   ]
  },
  {
   "cell_type": "code",
   "execution_count": null,
   "id": "6f72bb8f-54f8-4c9b-9361-1352d2886494",
   "metadata": {},
   "outputs": [],
   "source": []
  },
  {
   "cell_type": "code",
   "execution_count": null,
   "id": "210605f0-37fc-4037-b4c7-551215547e89",
   "metadata": {},
   "outputs": [],
   "source": []
  },
  {
   "cell_type": "code",
   "execution_count": 10,
   "id": "f9fa223b-94bc-46e4-8bf1-8620b2f94b1f",
   "metadata": {},
   "outputs": [],
   "source": [
    "\n",
    "tokenizer = tiktoken.get_encoding(\"gpt2\")\n"
   ]
  },
  {
   "cell_type": "code",
   "execution_count": 11,
   "id": "a36cffb6-e623-49e5-8dd2-0cb8cf0ea080",
   "metadata": {},
   "outputs": [],
   "source": [
    "\n",
    "text = (\n",
    "    \"Hello, do you like tea?\"\n",
    ")\n"
   ]
  },
  {
   "cell_type": "code",
   "execution_count": 12,
   "id": "b278c616-5188-436d-9e33-ea3fbfbb3c40",
   "metadata": {},
   "outputs": [
    {
     "data": {
      "text/plain": [
       "[15496, 11, 466, 345, 588, 8887, 30]"
      ]
     },
     "execution_count": 12,
     "metadata": {},
     "output_type": "execute_result"
    }
   ],
   "source": [
    "\n",
    "integers = tokenizer.encode( text )\n",
    "integers\n"
   ]
  },
  {
   "cell_type": "code",
   "execution_count": 13,
   "id": "57cda6bd-e3f4-433f-ad87-587e3145b5a5",
   "metadata": {},
   "outputs": [],
   "source": [
    "\n",
    "text = (\n",
    "    \"Hello, morning,  do you like tea?\"\n",
    ")\n",
    "\n",
    "text2 = (\n",
    "    \"I am good thankyou\"\n",
    ")\n"
   ]
  },
  {
   "cell_type": "code",
   "execution_count": 14,
   "id": "0629430a-b479-4535-892d-218085013c83",
   "metadata": {},
   "outputs": [],
   "source": [
    "\n",
    "integers = tokenizer.encode( text )\n",
    "integers2 = tokenizer.encode( text2 )\n",
    "\n"
   ]
  },
  {
   "cell_type": "code",
   "execution_count": 15,
   "id": "9e5c216a-7928-4f48-adb3-f2060ec22863",
   "metadata": {},
   "outputs": [
    {
     "data": {
      "text/plain": [
       "[15496, 11, 3329, 11, 220, 466, 345, 588, 8887, 30]"
      ]
     },
     "execution_count": 15,
     "metadata": {},
     "output_type": "execute_result"
    }
   ],
   "source": [
    "\n",
    "integers\n"
   ]
  },
  {
   "cell_type": "code",
   "execution_count": 16,
   "id": "18607256-1545-440e-b6f5-8bdddbd686c9",
   "metadata": {},
   "outputs": [
    {
     "data": {
      "text/plain": [
       "[40, 716, 922, 621, 2584, 280]"
      ]
     },
     "execution_count": 16,
     "metadata": {},
     "output_type": "execute_result"
    }
   ],
   "source": [
    "\n",
    "integers2\n"
   ]
  },
  {
   "cell_type": "code",
   "execution_count": 17,
   "id": "f7891f7f-0883-412d-9faa-a38ad2a83983",
   "metadata": {},
   "outputs": [
    {
     "data": {
      "text/plain": [
       "[[15496, 11, 3329, 11, 220, 466, 345, 588, 8887, 30],\n",
       " [40, 716, 922, 621, 2584, 280]]"
      ]
     },
     "execution_count": 17,
     "metadata": {},
     "output_type": "execute_result"
    }
   ],
   "source": [
    "\n",
    "\n",
    "[ integers, integers2 ]\n"
   ]
  },
  {
   "cell_type": "code",
   "execution_count": 19,
   "id": "c171c096-e8df-43fc-a302-a9c0b40dc942",
   "metadata": {},
   "outputs": [
    {
     "data": {
      "text/plain": [
       "'\\n20\\n\\n10 + 10*pad = 20\\n6  + 14*pad = 20\\n\\n'"
      ]
     },
     "execution_count": 19,
     "metadata": {},
     "output_type": "execute_result"
    }
   ],
   "source": [
    "\n",
    "'''\n",
    "20\n",
    "\n",
    "10 + 10*pad = 20\n",
    "6  + 14*pad = 20\n",
    "\n",
    "'''\n"
   ]
  },
  {
   "cell_type": "code",
   "execution_count": 20,
   "id": "1b59452e-e902-4659-8bc0-dc0708ab98b9",
   "metadata": {},
   "outputs": [
    {
     "data": {
      "text/plain": [
       "'Hello, morning,  do you like tea?'"
      ]
     },
     "execution_count": 20,
     "metadata": {},
     "output_type": "execute_result"
    }
   ],
   "source": [
    "\n",
    "strings = tokenizer.decode( integers )\n",
    "strings\n"
   ]
  },
  {
   "cell_type": "code",
   "execution_count": null,
   "id": "0206020a-9c8c-47fa-887a-76047aa0fe28",
   "metadata": {},
   "outputs": [],
   "source": []
  },
  {
   "cell_type": "code",
   "execution_count": null,
   "id": "77574b62-474f-4746-867a-ada3597f7fae",
   "metadata": {},
   "outputs": [],
   "source": []
  },
  {
   "cell_type": "code",
   "execution_count": null,
   "id": "74a5717c-7591-4f5f-8766-c27403e70533",
   "metadata": {},
   "outputs": [],
   "source": []
  },
  {
   "cell_type": "code",
   "execution_count": null,
   "id": "181ac22e-8894-4a6c-a406-38db619a98ce",
   "metadata": {},
   "outputs": [],
   "source": []
  },
  {
   "cell_type": "code",
   "execution_count": null,
   "id": "42c8da9d-a63d-4eda-b86a-3905ec100555",
   "metadata": {},
   "outputs": [],
   "source": []
  },
  {
   "cell_type": "code",
   "execution_count": null,
   "id": "5e625a1b-cc5d-4190-a190-a3ef34270b9b",
   "metadata": {},
   "outputs": [],
   "source": []
  },
  {
   "cell_type": "code",
   "execution_count": null,
   "id": "4bec4e04-e566-4ce3-b571-3a4af9eddbfd",
   "metadata": {},
   "outputs": [],
   "source": []
  },
  {
   "cell_type": "code",
   "execution_count": null,
   "id": "33c5b8e6-74a0-4a34-963b-e144962f62e5",
   "metadata": {},
   "outputs": [],
   "source": []
  },
  {
   "cell_type": "code",
   "execution_count": null,
   "id": "709bfd0f-15c7-4359-a3d5-19c2856d0ecc",
   "metadata": {},
   "outputs": [],
   "source": []
  },
  {
   "cell_type": "code",
   "execution_count": null,
   "id": "47439d64-0f7c-4b33-bc65-3297e386c2ea",
   "metadata": {},
   "outputs": [],
   "source": []
  },
  {
   "cell_type": "code",
   "execution_count": null,
   "id": "96ca8cf3-ac35-438b-aad7-3594832f81bf",
   "metadata": {},
   "outputs": [],
   "source": []
  },
  {
   "cell_type": "code",
   "execution_count": null,
   "id": "bca5f5b8-7959-4a73-b1ac-582758535e63",
   "metadata": {},
   "outputs": [],
   "source": []
  }
 ],
 "metadata": {
  "kernelspec": {
   "display_name": "Python 3 (ipykernel)",
   "language": "python",
   "name": "python3"
  },
  "language_info": {
   "codemirror_mode": {
    "name": "ipython",
    "version": 3
   },
   "file_extension": ".py",
   "mimetype": "text/x-python",
   "name": "python",
   "nbconvert_exporter": "python",
   "pygments_lexer": "ipython3",
   "version": "3.9.18"
  }
 },
 "nbformat": 4,
 "nbformat_minor": 5
}

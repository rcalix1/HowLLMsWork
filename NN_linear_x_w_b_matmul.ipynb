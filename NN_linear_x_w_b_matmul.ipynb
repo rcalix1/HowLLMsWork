{
 "cells": [
  {
   "cell_type": "code",
   "execution_count": 1,
   "id": "fe76aa32-01bd-4b15-a659-f843f504816b",
   "metadata": {},
   "outputs": [],
   "source": [
    "import torch"
   ]
  },
  {
   "cell_type": "code",
   "execution_count": null,
   "id": "5030d504-a62a-42d5-a1f1-2d0d9598090b",
   "metadata": {},
   "outputs": [],
   "source": []
  },
  {
   "cell_type": "markdown",
   "id": "b4f03470-0dc0-4b28-8e99-c62839d42bbb",
   "metadata": {},
   "source": [
    "\n",
    "## Dot Product\n",
    "\n",
    "* 1×4 + 2×5 + 3×6 = 4 + 10 + 18 = 32\n"
   ]
  },
  {
   "cell_type": "code",
   "execution_count": 2,
   "id": "ac4f6481-713a-4d42-a1a5-ce3abf7fd3c1",
   "metadata": {},
   "outputs": [
    {
     "name": "stdout",
     "output_type": "stream",
     "text": [
      "Dot product: 32.0\n"
     ]
    }
   ],
   "source": [
    "\n",
    "import torch\n",
    "\n",
    "# Define two 1D tensors (vectors)\n",
    "a = torch.tensor([1.0, 2.0, 3.0])\n",
    "b = torch.tensor([4.0, 5.0, 6.0])\n",
    "\n",
    "# Compute dot product using torch.dot\n",
    "dot_product = torch.dot(a, b)\n",
    "\n",
    "print(f\"Dot product: {dot_product.item()}\")\n",
    "\n"
   ]
  },
  {
   "cell_type": "code",
   "execution_count": null,
   "id": "1bf1bf70-f3f1-4b11-a73b-95c151643445",
   "metadata": {},
   "outputs": [],
   "source": []
  },
  {
   "cell_type": "code",
   "execution_count": null,
   "id": "f9dbfe30-7707-47d5-afa2-24e72b2f61b4",
   "metadata": {},
   "outputs": [],
   "source": []
  },
  {
   "cell_type": "code",
   "execution_count": null,
   "id": "818c1fcd-9a92-40f7-8412-d0783efe73fe",
   "metadata": {},
   "outputs": [],
   "source": []
  },
  {
   "cell_type": "markdown",
   "id": "8107bc63-72e8-47cd-920b-e16c508968d0",
   "metadata": {},
   "source": [
    "\n",
    "## Example\n"
   ]
  },
  {
   "cell_type": "code",
   "execution_count": null,
   "id": "1c980427-0ddd-4291-a8ab-56aece52cd17",
   "metadata": {},
   "outputs": [],
   "source": []
  },
  {
   "cell_type": "code",
   "execution_count": 2,
   "id": "9619eea9-28c7-498e-9dce-1ec3e7f029c0",
   "metadata": {},
   "outputs": [
    {
     "data": {
      "text/plain": [
       "torch.Size([150, 4])"
      ]
     },
     "execution_count": 2,
     "metadata": {},
     "output_type": "execute_result"
    }
   ],
   "source": [
    "\n",
    "\n",
    "\n",
    "x = torch.randn(150, 4)\n",
    "x.shape\n"
   ]
  },
  {
   "cell_type": "code",
   "execution_count": 3,
   "id": "7f26aff1-0d90-4237-b66b-c61d038a18ae",
   "metadata": {},
   "outputs": [
    {
     "data": {
      "text/plain": [
       "torch.Size([4, 6])"
      ]
     },
     "execution_count": 3,
     "metadata": {},
     "output_type": "execute_result"
    }
   ],
   "source": [
    "\n",
    "w = torch.randn( 4, 6 )\n",
    "w.shape\n"
   ]
  },
  {
   "cell_type": "code",
   "execution_count": 4,
   "id": "6b3330c8-7814-4b94-9cd9-10217194b553",
   "metadata": {},
   "outputs": [
    {
     "data": {
      "text/plain": [
       "torch.Size([150, 6])"
      ]
     },
     "execution_count": 4,
     "metadata": {},
     "output_type": "execute_result"
    }
   ],
   "source": [
    "\n",
    "y = torch.matmul(  x, w  ) \n",
    "y.shape\n"
   ]
  },
  {
   "cell_type": "code",
   "execution_count": null,
   "id": "1de10cfe-0f05-4a29-97a4-873544ddc31f",
   "metadata": {},
   "outputs": [],
   "source": []
  },
  {
   "cell_type": "code",
   "execution_count": null,
   "id": "4b21c262-0f04-40d7-a367-e27b29ca378f",
   "metadata": {},
   "outputs": [],
   "source": []
  },
  {
   "cell_type": "code",
   "execution_count": null,
   "id": "233a2638-e4d8-4068-a79a-be84f0133ca4",
   "metadata": {},
   "outputs": [],
   "source": []
  },
  {
   "cell_type": "code",
   "execution_count": null,
   "id": "e7af4bbc-99c6-4213-bba5-2b49811de97e",
   "metadata": {},
   "outputs": [],
   "source": []
  },
  {
   "cell_type": "code",
   "execution_count": null,
   "id": "faa8a9af-48bd-41e7-b587-a891af30bb19",
   "metadata": {},
   "outputs": [],
   "source": []
  },
  {
   "cell_type": "code",
   "execution_count": null,
   "id": "debc3229-f40c-405f-98fa-d5e27a451e3f",
   "metadata": {},
   "outputs": [],
   "source": []
  },
  {
   "cell_type": "code",
   "execution_count": null,
   "id": "a2a43781-100f-4dbe-b4cc-a7d0dc1418c5",
   "metadata": {},
   "outputs": [],
   "source": []
  },
  {
   "cell_type": "code",
   "execution_count": null,
   "id": "4de05ce0-0b7d-4f25-97f4-22d01f1de03b",
   "metadata": {},
   "outputs": [],
   "source": []
  },
  {
   "cell_type": "code",
   "execution_count": null,
   "id": "21d0f4dc-9458-463e-90e9-eb57cf52bb84",
   "metadata": {},
   "outputs": [],
   "source": []
  }
 ],
 "metadata": {
  "kernelspec": {
   "display_name": "Python 3 (ipykernel)",
   "language": "python",
   "name": "python3"
  },
  "language_info": {
   "codemirror_mode": {
    "name": "ipython",
    "version": 3
   },
   "file_extension": ".py",
   "mimetype": "text/x-python",
   "name": "python",
   "nbconvert_exporter": "python",
   "pygments_lexer": "ipython3",
   "version": "3.9.18"
  }
 },
 "nbformat": 4,
 "nbformat_minor": 5
}
